{
 "cells": [
  {
   "cell_type": "code",
   "execution_count": 1,
   "id": "6ebc10b5",
   "metadata": {},
   "outputs": [],
   "source": [
    "from typing import List"
   ]
  },
  {
   "cell_type": "markdown",
   "id": "64abdce7",
   "metadata": {},
   "source": [
    "# Easy\n",
    "\n",
    "- Two Pointers\n",
    "- Boyer-Moore Voting Algorithm"
   ]
  },
  {
   "cell_type": "markdown",
   "id": "fa2c1ae6",
   "metadata": {},
   "source": [
    "### 283. Move Zeroes\n",
    "https://leetcode.com/problems/move-zeroes/description/\n",
    "\n",
    "\n",
    "Given an integer array nums, move all 0's to the end of it while maintaining the relative order of the non-zero elements.\n",
    "\n",
    "Note that you must do this in-place without making a copy of the array.\n",
    "\n",
    " \n",
    "\n",
    "Example 1:\n",
    "\n",
    "Input: nums = [0,1,0,3,12]\n",
    "Output: [1,3,12,0,0]\n",
    "Example 2:\n",
    "\n",
    "Input: nums = [0]\n",
    "Output: [0]\n",
    " \n",
    "\n",
    "Constraints:\n",
    "\n",
    "1 <= nums.length <= 104\n",
    "-231 <= nums[i] <= 231 - 1\n",
    " \n",
    "\n",
    "Follow up: Could you minimize the total number of operations done?"
   ]
  },
  {
   "cell_type": "code",
   "execution_count": 8,
   "id": "b62f17d5",
   "metadata": {},
   "outputs": [
    {
     "name": "stdout",
     "output_type": "stream",
     "text": [
      "[1, 3, 12, 0, 0]\n"
     ]
    }
   ],
   "source": [
    "# Raw approach\n",
    "class Solution:\n",
    "    def moveZeroes(self, nums: List[int]) -> None:\n",
    "        \"\"\"\n",
    "        Do not return anything, modify nums in-place instead.\n",
    "        \"\"\"\n",
    "        for i in nums:\n",
    "            if i == 0:\n",
    "                nums.remove(i)\n",
    "                nums.append(0)\n",
    "\n",
    "nums = [0,1,0,3,12]\n",
    "Solution().moveZeroes(nums)\n",
    "print(nums)  # Expected output: [1, 3, 12, 0, 0]\n",
    "\n",
    "# 614ms Beats 8.84%\n",
    "# Complexity: O(n^2) due to the use of remove and append in a loop"
   ]
  },
  {
   "cell_type": "code",
   "execution_count": 9,
   "id": "618f1b58",
   "metadata": {},
   "outputs": [
    {
     "name": "stdout",
     "output_type": "stream",
     "text": [
      "[1, 3, 12, 0, 0]\n"
     ]
    }
   ],
   "source": [
    "# Use pointer approach\n",
    "class Solution:\n",
    "    def moveZeroes(self, nums: List[int]) -> None:\n",
    "        \"\"\"\n",
    "        Do not return anything, modify nums in-place instead.\n",
    "        \"\"\"\n",
    "        pointer_count = 0\n",
    "        for i in range(len(nums)):\n",
    "            if nums[i] != 0:\n",
    "                nums[pointer_count] = nums[i]\n",
    "                pointer_count += 1\n",
    "        for j in range(pointer_count, len(nums)):\n",
    "            nums[j] = 0\n",
    "\n",
    "nums = [0,1,0,3,12]\n",
    "Solution().moveZeroes(nums)\n",
    "print(nums)  # Expected output: [1, 3, 12, 0, 0]\n",
    "\n",
    "# 0ms Beats 100.00%\n",
    "# Complexity: O(n) as we traverse the list twice, but only once for non-zero elements"
   ]
  },
  {
   "cell_type": "markdown",
   "id": "c8e894a8",
   "metadata": {},
   "source": [
    "### 169. Majority Element\n",
    "\n",
    "Given an array nums of size n, return the majority element.\n",
    "\n",
    "The majority element is the element that appears more than ⌊n / 2⌋ times. You may assume that the majority element always exists in the array.\n",
    "\n",
    " \n",
    "\n",
    "Example 1:\n",
    "\n",
    "Input: nums = [3,2,3]\n",
    "Output: 3\n",
    "Example 2:\n",
    "\n",
    "Input: nums = [2,2,1,1,1,2,2]\n",
    "Output: 2\n",
    " \n",
    "\n",
    "Constraints:\n",
    "\n",
    "n == nums.length\n",
    "1 <= n <= 5 * 104\n",
    "-109 <= nums[i] <= 109\n",
    " \n",
    "\n",
    "Follow-up: Could you solve the problem in linear time and in O(1) space?"
   ]
  },
  {
   "cell_type": "code",
   "execution_count": 16,
   "id": "fd63c607",
   "metadata": {},
   "outputs": [
    {
     "name": "stdout",
     "output_type": "stream",
     "text": [
      "2\n"
     ]
    }
   ],
   "source": [
    "# Pure counting approach\n",
    "class Solution:\n",
    "    def majorityElement(self, nums: List[int]) -> int:\n",
    "        searched_number = []\n",
    "        for i in nums:\n",
    "            if i in searched_number:\n",
    "                continue\n",
    "            searched_number.append(i)\n",
    "            if nums.count(i) > len(nums) // 2:\n",
    "                return i\n",
    "\n",
    "\n",
    "nums = [2,2,1,1,1,2,2]\n",
    "print(Solution().majorityElement(nums)) # Expected output: 2\n",
    "# 0ms Beats 100.00%\n",
    "# Complexity: O(n^2) due to the use of count in a loop"
   ]
  },
  {
   "cell_type": "code",
   "execution_count": 17,
   "id": "a316be6b",
   "metadata": {},
   "outputs": [
    {
     "name": "stdout",
     "output_type": "stream",
     "text": [
      "2\n"
     ]
    }
   ],
   "source": [
    "# Boyer-Moore Voting Algorithm\n",
    "class Solution:\n",
    "    def majorityElement(self, nums: List[int]) -> int:\n",
    "        count = 0\n",
    "        candidate = None\n",
    "        \n",
    "        for i in nums:\n",
    "            if count == 0:\n",
    "                candidate = i\n",
    "            count += (1 if i == candidate else -1)\n",
    "        return candidate\n",
    "\n",
    "nums = [2,2,1,1,1,2,2]\n",
    "print(Solution().majorityElement(nums)) # Expected output: 2\n",
    "# 0ms Beats 100.00%\n",
    "# Complexity: O(n)"
   ]
  },
  {
   "cell_type": "markdown",
   "id": "c479360c",
   "metadata": {},
   "source": [
    "### 26. Remove Duplicates from Sorted Array\n",
    "https://leetcode.com/problems/remove-duplicates-from-sorted-array/description/\n",
    "\n",
    "Given an integer array nums sorted in non-decreasing order, remove the duplicates in-place such that each unique element appears only once. The relative order of the elements should be kept the same. Then return the number of unique elements in nums.\n",
    "\n",
    "Consider the number of unique elements of nums to be k, to get accepted, you need to do the following things:\n",
    "\n",
    "Change the array nums such that the first k elements of nums contain the unique elements in the order they were present in nums initially. The remaining elements of nums are not important as well as the size of nums.\n",
    "Return k.\n",
    "Custom Judge:\n",
    "\n",
    "The judge will test your solution with the following code:\n",
    "\n",
    "int[] nums = [...]; // Input array\n",
    "int[] expectedNums = [...]; // The expected answer with correct length\n",
    "\n",
    "int k = removeDuplicates(nums); // Calls your implementation\n",
    "\n",
    "assert k == expectedNums.length;\n",
    "for (int i = 0; i < k; i++) {\n",
    "    assert nums[i] == expectedNums[i];\n",
    "}\n",
    "If all assertions pass, then your solution will be accepted.\n",
    "\n",
    " \n",
    "\n",
    "Example 1:\n",
    "\n",
    "Input: nums = [1,1,2]\n",
    "Output: 2, nums = [1,2,_]\n",
    "Explanation: Your function should return k = 2, with the first two elements of nums being 1 and 2 respectively.\n",
    "It does not matter what you leave beyond the returned k (hence they are underscores).\n",
    "Example 2:\n",
    "\n",
    "Input: nums = [0,0,1,1,1,2,2,3,3,4]\n",
    "Output: 5, nums = [0,1,2,3,4,_,_,_,_,_]\n",
    "Explanation: Your function should return k = 5, with the first five elements of nums being 0, 1, 2, 3, and 4 respectively.\n",
    "It does not matter what you leave beyond the returned k (hence they are underscores).\n",
    " \n",
    "\n",
    "Constraints:\n",
    "\n",
    "1 <= nums.length <= 3 * 104\n",
    "-100 <= nums[i] <= 100\n",
    "nums is sorted in non-decreasing order."
   ]
  },
  {
   "cell_type": "code",
   "execution_count": null,
   "id": "50fb1cc8",
   "metadata": {},
   "outputs": [
    {
     "name": "stdout",
     "output_type": "stream",
     "text": [
      "5\n"
     ]
    }
   ],
   "source": [
    "# 2 Pointer approach?\n",
    "class Solution:\n",
    "    def removeDuplicates(self, nums: List[int]) -> int:\n",
    "        number_count = len(nums)\n",
    "        if number_count == 1:\n",
    "            return 1\n",
    "\n",
    "        current_pointer = 1\n",
    "        previous_value = nums[0]\n",
    "        for i in range(1, number_count):\n",
    "            current_value = nums[i]\n",
    "            if previous_value < current_value:\n",
    "                nums[current_pointer] = current_value\n",
    "                current_pointer += 1\n",
    "            previous_value = current_value\n",
    "\n",
    "        k = current_pointer\n",
    "        return k\n",
    "\n",
    "nums = [0,0,1,1,1,2,2,3,3,4]\n",
    "print(Solution().removeDuplicates(nums))\n",
    "\n",
    "# 3ms Beats 47.57%"
   ]
  },
  {
   "cell_type": "code",
   "execution_count": null,
   "id": "ee8e8d42",
   "metadata": {},
   "outputs": [
    {
     "name": "stdout",
     "output_type": "stream",
     "text": [
      "5\n"
     ]
    }
   ],
   "source": [
    "# Reduce redundant parts\n",
    "class Solution:\n",
    "    def removeDuplicates(self, nums: List[int]) -> int:\n",
    "        number_count = len(nums)\n",
    "        if number_count == 1:\n",
    "            return 1\n",
    "\n",
    "        k = 1\n",
    "        for i in range(1, number_count):\n",
    "            previous_value = nums[i-1]\n",
    "            current_value = nums[i]\n",
    "            if previous_value < current_value:\n",
    "                nums[k] = current_value\n",
    "                k += 1\n",
    "\n",
    "        return k\n",
    "\n",
    "nums = [0,0,1,1,1,2,2,3,3,4]\n",
    "print(Solution().removeDuplicates(nums))\n",
    "\n",
    "# 0ms Beats 100%"
   ]
  }
 ],
 "metadata": {
  "kernelspec": {
   "display_name": "env",
   "language": "python",
   "name": "python3"
  },
  "language_info": {
   "codemirror_mode": {
    "name": "ipython",
    "version": 3
   },
   "file_extension": ".py",
   "mimetype": "text/x-python",
   "name": "python",
   "nbconvert_exporter": "python",
   "pygments_lexer": "ipython3",
   "version": "3.10.16"
  }
 },
 "nbformat": 4,
 "nbformat_minor": 5
}
