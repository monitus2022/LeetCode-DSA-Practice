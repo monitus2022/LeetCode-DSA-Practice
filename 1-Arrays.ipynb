{
 "cells": [
  {
   "cell_type": "code",
   "execution_count": 1,
   "id": "6ebc10b5",
   "metadata": {},
   "outputs": [],
   "source": [
    "from typing import List"
   ]
  },
  {
   "cell_type": "markdown",
   "id": "64abdce7",
   "metadata": {},
   "source": [
    "# Easy"
   ]
  },
  {
   "cell_type": "markdown",
   "id": "fa2c1ae6",
   "metadata": {},
   "source": [
    "### 283. Move Zeroes\n",
    "https://leetcode.com/problems/move-zeroes/description/\n",
    "\n",
    "\n",
    "Given an integer array nums, move all 0's to the end of it while maintaining the relative order of the non-zero elements.\n",
    "\n",
    "Note that you must do this in-place without making a copy of the array.\n",
    "\n",
    " \n",
    "\n",
    "Example 1:\n",
    "\n",
    "Input: nums = [0,1,0,3,12]\n",
    "Output: [1,3,12,0,0]\n",
    "Example 2:\n",
    "\n",
    "Input: nums = [0]\n",
    "Output: [0]\n",
    " \n",
    "\n",
    "Constraints:\n",
    "\n",
    "1 <= nums.length <= 104\n",
    "-231 <= nums[i] <= 231 - 1\n",
    " \n",
    "\n",
    "Follow up: Could you minimize the total number of operations done?"
   ]
  },
  {
   "cell_type": "code",
   "execution_count": 8,
   "id": "b62f17d5",
   "metadata": {},
   "outputs": [
    {
     "name": "stdout",
     "output_type": "stream",
     "text": [
      "[1, 3, 12, 0, 0]\n"
     ]
    }
   ],
   "source": [
    "# Raw approach\n",
    "class Solution:\n",
    "    def moveZeroes(self, nums: List[int]) -> None:\n",
    "        \"\"\"\n",
    "        Do not return anything, modify nums in-place instead.\n",
    "        \"\"\"\n",
    "        for i in nums:\n",
    "            if i == 0:\n",
    "                nums.remove(i)\n",
    "                nums.append(0)\n",
    "\n",
    "nums = [0,1,0,3,12]\n",
    "Solution().moveZeroes(nums)\n",
    "print(nums)  # Expected output: [1, 3, 12, 0, 0]\n",
    "\n",
    "# 614ms Beats 8.84%\n",
    "# Complexity: O(n^2) due to the use of remove and append in a loop"
   ]
  },
  {
   "cell_type": "code",
   "execution_count": 9,
   "id": "618f1b58",
   "metadata": {},
   "outputs": [
    {
     "name": "stdout",
     "output_type": "stream",
     "text": [
      "[1, 3, 12, 0, 0]\n"
     ]
    }
   ],
   "source": [
    "# Use pointer approach\n",
    "class Solution:\n",
    "    def moveZeroes(self, nums: List[int]) -> None:\n",
    "        \"\"\"\n",
    "        Do not return anything, modify nums in-place instead.\n",
    "        \"\"\"\n",
    "        pointer_count = 0\n",
    "        for i in range(len(nums)):\n",
    "            if nums[i] != 0:\n",
    "                nums[pointer_count] = nums[i]\n",
    "                pointer_count += 1\n",
    "        for j in range(pointer_count, len(nums)):\n",
    "            nums[j] = 0\n",
    "\n",
    "nums = [0,1,0,3,12]\n",
    "Solution().moveZeroes(nums)\n",
    "print(nums)  # Expected output: [1, 3, 12, 0, 0]\n",
    "\n",
    "# 0ms Beats 100.00%\n",
    "# Complexity: O(n) as we traverse the list twice, but only once for non-zero elements"
   ]
  },
  {
   "cell_type": "markdown",
   "id": "c8e894a8",
   "metadata": {},
   "source": [
    "### 169. Majority Element\n",
    "\n",
    "Given an array nums of size n, return the majority element.\n",
    "\n",
    "The majority element is the element that appears more than ⌊n / 2⌋ times. You may assume that the majority element always exists in the array.\n",
    "\n",
    " \n",
    "\n",
    "Example 1:\n",
    "\n",
    "Input: nums = [3,2,3]\n",
    "Output: 3\n",
    "Example 2:\n",
    "\n",
    "Input: nums = [2,2,1,1,1,2,2]\n",
    "Output: 2\n",
    " \n",
    "\n",
    "Constraints:\n",
    "\n",
    "n == nums.length\n",
    "1 <= n <= 5 * 104\n",
    "-109 <= nums[i] <= 109\n",
    " \n",
    "\n",
    "Follow-up: Could you solve the problem in linear time and in O(1) space?"
   ]
  }
 ],
 "metadata": {
  "kernelspec": {
   "display_name": "env",
   "language": "python",
   "name": "python3"
  },
  "language_info": {
   "codemirror_mode": {
    "name": "ipython",
    "version": 3
   },
   "file_extension": ".py",
   "mimetype": "text/x-python",
   "name": "python",
   "nbconvert_exporter": "python",
   "pygments_lexer": "ipython3",
   "version": "3.10.16"
  }
 },
 "nbformat": 4,
 "nbformat_minor": 5
}
