{
 "cells": [
  {
   "cell_type": "code",
   "execution_count": 29,
   "id": "43a1a5c8",
   "metadata": {},
   "outputs": [],
   "source": [
    "from typing import List"
   ]
  },
  {
   "cell_type": "markdown",
   "id": "0e55a9bd",
   "metadata": {},
   "source": [
    "# Easy\n",
    "- 2 pointer"
   ]
  },
  {
   "cell_type": "markdown",
   "id": "ab3030da",
   "metadata": {},
   "source": [
    "### 392. Is Subsequence\n",
    "https://leetcode.com/problems/is-subsequence\n",
    "\n",
    "Given two strings s and t, return true if s is a subsequence of t, or false otherwise.\n",
    "\n",
    "A subsequence of a string is a new string that is formed from the original string by deleting some (can be none) of the characters without disturbing the relative positions of the remaining characters. (i.e., \"ace\" is a subsequence of \"abcde\" while \"aec\" is not).\n",
    "\n",
    " \n",
    "\n",
    "Example 1:\n",
    "\n",
    "Input: s = \"abc\", t = \"ahbgdc\"\n",
    "Output: true\n",
    "Example 2:\n",
    "\n",
    "Input: s = \"axc\", t = \"ahbgdc\"\n",
    "Output: false\n",
    " \n",
    "\n",
    "Constraints:\n",
    "\n",
    "0 <= s.length <= 100\n",
    "0 <= t.length <= 104\n",
    "s and t consist only of lowercase English letters.\n",
    " \n",
    "\n",
    "Follow up: Suppose there are lots of incoming s, say s1, s2, ..., sk where k >= 109, and you want to check one by one to see if t has its subsequence. In this scenario, how would you change your code?"
   ]
  },
  {
   "cell_type": "code",
   "execution_count": null,
   "id": "ac04ce93",
   "metadata": {},
   "outputs": [
    {
     "name": "stdout",
     "output_type": "stream",
     "text": [
      "True\n"
     ]
    }
   ],
   "source": [
    "# 2 pointer\n",
    "class Solution:\n",
    "    def isSubsequence(self, s: str, t: str) -> bool:\n",
    "        if len(s) == 0:\n",
    "            return True\n",
    "        if len(t) == 0:\n",
    "            return False\n",
    "        s_pointer = 0\n",
    "        for i in range(len(t)):\n",
    "            if s[s_pointer] == t[i]:\n",
    "                s_pointer += 1\n",
    "            if s_pointer == len(s):\n",
    "                return True\n",
    "        return False\n",
    "\n",
    "s = \"b\"\n",
    "t = \"abc\"\n",
    "print(Solution().isSubsequence(s,t))\n",
    "# 40ms Beats 3.78%"
   ]
  },
  {
   "cell_type": "code",
   "execution_count": null,
   "id": "da88c6fb",
   "metadata": {},
   "outputs": [
    {
     "name": "stdout",
     "output_type": "stream",
     "text": [
      "True\n"
     ]
    }
   ],
   "source": [
    "# 2 pointer\n",
    "class Solution:\n",
    "    def isSubsequence(self, s: str, t: str) -> bool:\n",
    "        if len(s) == 0:\n",
    "            return True\n",
    "        if len(t) == 0:\n",
    "            return False\n",
    "        s_pointer = 0\n",
    "        for i in range(len(t)):\n",
    "            if s[s_pointer] == t[i]:\n",
    "                s_pointer += 1\n",
    "            if s_pointer == len(s):\n",
    "                return True\n",
    "        return False\n",
    "\n",
    "s = \"\"\n",
    "t = \"abc\"\n",
    "print(Solution().isSubsequence(s,t))\n",
    "# 40ms Beats 3.78%"
   ]
  },
  {
   "cell_type": "markdown",
   "id": "6d613a1c",
   "metadata": {},
   "source": [
    "### 125. Valid Palindrome\n",
    "https://leetcode.com/problems/valid-palindrome/description/\n",
    "\n",
    "A phrase is a palindrome if, after converting all uppercase letters into lowercase letters and removing all non-alphanumeric characters, it reads the same forward and backward. Alphanumeric characters include letters and numbers.\n",
    "\n",
    "Given a string s, return true if it is a palindrome, or false otherwise.\n",
    "\n",
    " \n",
    "\n",
    "Example 1:\n",
    "\n",
    "Input: s = \"A man, a plan, a canal: Panama\"\n",
    "Output: true\n",
    "Explanation: \"amanaplanacanalpanama\" is a palindrome.\n",
    "Example 2:\n",
    "\n",
    "Input: s = \"race a car\"\n",
    "Output: false\n",
    "Explanation: \"raceacar\" is not a palindrome.\n",
    "Example 3:\n",
    "\n",
    "Input: s = \" \"\n",
    "Output: true\n",
    "Explanation: s is an empty string \"\" after removing non-alphanumeric characters.\n",
    "Since an empty string reads the same forward and backward, it is a palindrome.\n",
    " \n",
    "\n",
    "Constraints:\n",
    "\n",
    "1 <= s.length <= 2 * 105\n",
    "s consists only of printable ASCII characters."
   ]
  },
  {
   "cell_type": "code",
   "execution_count": 30,
   "id": "5621e663",
   "metadata": {},
   "outputs": [
    {
     "name": "stdout",
     "output_type": "stream",
     "text": [
      "True\n"
     ]
    }
   ],
   "source": [
    "# 2 pointer\n",
    "class Solution:\n",
    "    def isPalindrome(self, s: str) -> bool:\n",
    "        if len(s) <= 1:\n",
    "            return True\n",
    "\n",
    "        start_pointer = 0\n",
    "        end_pointer = len(s) - 1\n",
    "        while start_pointer < end_pointer:\n",
    "            if not s[start_pointer].isalnum():\n",
    "                start_pointer += 1\n",
    "                continue\n",
    "            if not s[end_pointer].isalnum():\n",
    "                end_pointer -= 1\n",
    "                continue\n",
    "            if s[start_pointer].lower() != s[end_pointer].lower():\n",
    "                return False\n",
    "            else:\n",
    "                start_pointer += 1\n",
    "                end_pointer -= 1\n",
    "        return True\n",
    "\n",
    "s = \"A man, a plan, a canal: Panama\"\n",
    "print(Solution().isPalindrome(s))\n",
    "#7ms Beats 81.56%"
   ]
  },
  {
   "cell_type": "markdown",
   "id": "8954fbb2",
   "metadata": {},
   "source": [
    "### 14. Longest Common Prefix\n",
    "https://leetcode.com/problems/longest-common-prefix\n",
    "\n",
    "Write a function to find the longest common prefix string amongst an array of strings.\n",
    "\n",
    "If there is no common prefix, return an empty string \"\".\n",
    "\n",
    " \n",
    "\n",
    "Example 1:\n",
    "\n",
    "Input: strs = [\"flower\",\"flow\",\"flight\"]\n",
    "Output: \"fl\"\n",
    "Example 2:\n",
    "\n",
    "Input: strs = [\"dog\",\"racecar\",\"car\"]\n",
    "Output: \"\"\n",
    "Explanation: There is no common prefix among the input strings.\n",
    " \n",
    "\n",
    "Constraints:\n",
    "\n",
    "1 <= strs.length <= 200\n",
    "0 <= strs[i].length <= 200\n",
    "strs[i] consists of only lowercase English letters if it is non-empty."
   ]
  },
  {
   "cell_type": "code",
   "execution_count": null,
   "id": "2dd662ab",
   "metadata": {},
   "outputs": [
    {
     "name": "stdout",
     "output_type": "stream",
     "text": [
      "Solution: fl\n"
     ]
    }
   ],
   "source": [
    "class Solution:\n",
    "    def longestCommonPrefix(self, strs: List[str]) -> str:\n",
    "        if len(strs) == 1:\n",
    "            return strs[0]\n",
    "        strs.sort()\n",
    "        first_word = strs[0]\n",
    "        if len(first_word) == 0 or len(strs[-1]) == 0:\n",
    "            return \"\"\n",
    "        longest_prefix = \"\"\n",
    "        for i in range(\n",
    "            min(len(first_word), len(strs[-1]))\n",
    "            ):\n",
    "            if first_word[i] != strs[-1][i]:\n",
    "                break\n",
    "            longest_prefix = first_word[:i]\n",
    "        return longest_prefix\n",
    "                    \n",
    "strs = [\"flower\",\"flow\",\"flight\"]\n",
    "print(\"Solution:\", Solution().longestCommonPrefix(strs))\n",
    "\n",
    "# 0ms Beats 100.00%"
   ]
  },
  {
   "cell_type": "markdown",
   "id": "525cc3d3",
   "metadata": {},
   "source": []
  }
 ],
 "metadata": {
  "kernelspec": {
   "display_name": "Python 3",
   "language": "python",
   "name": "python3"
  },
  "language_info": {
   "codemirror_mode": {
    "name": "ipython",
    "version": 3
   },
   "file_extension": ".py",
   "mimetype": "text/x-python",
   "name": "python",
   "nbconvert_exporter": "python",
   "pygments_lexer": "ipython3",
   "version": "3.10.16"
  }
 },
 "nbformat": 4,
 "nbformat_minor": 5
}
